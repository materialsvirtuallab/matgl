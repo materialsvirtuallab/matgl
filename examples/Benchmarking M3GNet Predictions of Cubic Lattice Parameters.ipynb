{
 "cells": [
  {
   "cell_type": "markdown",
   "id": "0",
   "metadata": {},
   "source": [
    "# Introduction\n",
    "\n",
    "This notebook is written to demonstrate the use of M3GNet as a structure relaxer as well as to provide more comprehensive benchmarks for cubic crystals based on exp data on Wikipedia and MP DFT data. This benchmark is limited to cubic crystals for ease of comparison since there is only one lattice parameter.\n",
    "\n",
    "If you are running this notebook from Google Colab, uncomment the next code box to install matgl first.\n"
   ]
  },
  {
   "cell_type": "code",
   "execution_count": null,
   "id": "1",
   "metadata": {},
   "outputs": [],
   "source": [
    "# !pip install matgl"
   ]
  },
  {
   "cell_type": "code",
   "execution_count": null,
   "id": "2",
   "metadata": {},
   "outputs": [],
   "source": [
    "from __future__ import annotations\n",
    "\n",
    "import os\n",
    "import warnings\n",
    "\n",
    "import numpy as np\n",
    "import pandas as pd\n",
    "from pymatgen.core import Composition, Lattice, Structure\n",
    "from pymatgen.ext.matproj import MPRester\n",
    "from pymatgen.symmetry.analyzer import SpacegroupAnalyzer\n",
    "\n",
    "import matgl\n",
    "from matgl.ext.ase import Relaxer\n",
    "\n",
    "warnings.filterwarnings(\"ignore\")"
   ]
  },
  {
   "cell_type": "markdown",
   "id": "3",
   "metadata": {},
   "source": [
    "The next cell just compiles data from Wikipedia.\n"
   ]
  },
  {
   "cell_type": "code",
   "execution_count": null,
   "id": "4",
   "metadata": {},
   "outputs": [],
   "source": [
    "data = pd.read_html(\"http://en.wikipedia.org/wiki/Lattice_constant\")[0]\n",
    "struct_types = [\n",
    "    \"Hexagonal\",\n",
    "    \"Wurtzite\",\n",
    "    \"Wurtzite (HCP)\",\n",
    "    \"Orthorhombic\",\n",
    "    \"Tetragonal perovskite\",\n",
    "    \"Orthorhombic perovskite\",\n",
    "]\n",
    "data = data[~data[\"Crystal structure\"].isin(struct_types)]\n",
    "data = data.rename(columns={\"Lattice constant (Å)\": \"a (Å)\"})\n",
    "data = data.drop(columns=[\"Ref.\"])\n",
    "data[\"a (Å)\"] = data[\"a (Å)\"].map(float)\n",
    "data = data[[\"Material\", \"Crystal structure\", \"a (Å)\"]]\n",
    "\n",
    "\n",
    "additional_fcc = \"\"\"10 Ne 4.43 54 Xe 6.20\n",
    "13 Al 4.05 58 Ce 5.16\n",
    "18 Ar 5.26 70 Yb 5.49\n",
    "20 Ca 5.58 77 Ir 3.84\n",
    "28 Ni 3.52 78 Pt 3.92\n",
    "29 Cu 3.61 79 Au 4.08\n",
    "36 Kr 5.72 82 Pb 4.95\n",
    "38 Sr 6.08 47 Ag 4.09\n",
    "45 Rh 3.80 89 Ac 5.31\n",
    "46 Pd 3.89 90 Th 5.08\"\"\"\n",
    "\n",
    "additional_bcc = \"\"\"3 Li 3.49 42 Mo 3.15\n",
    "11 Na 4.23 55 Cs 6.05\n",
    "19 K 5.23 56 Ba 5.02\n",
    "23 V 3.02 63 Eu 4.61\n",
    "24 Cr 2.88 73 Ta 3.31\n",
    "26 Fe 2.87 74 W 3.16\n",
    "37 Rb 5.59 41 Nb 3.30\"\"\"\n",
    "\n",
    "\n",
    "def add_new(str_, structure_type, df):\n",
    "    tokens = str_.split()\n",
    "    new_crystals = []\n",
    "    for i in range(int(len(tokens) / 3)):\n",
    "        el = tokens[3 * i + 1].strip()\n",
    "        if el not in df[\"Material\"].to_numpy():\n",
    "            new_crystals.append([tokens[3 * i + 1], structure_type, float(tokens[3 * i + 2])])\n",
    "    df2 = pd.DataFrame(new_crystals, columns=data.columns)\n",
    "    return pd.concat([df, df2])\n",
    "\n",
    "\n",
    "data = add_new(additional_fcc, \"FCC\", data)\n",
    "data = add_new(additional_bcc, \"BCC\", data)\n",
    "data = data[data[\"Material\"] != \"NC0.99\"]\n",
    "data = data[data[\"Material\"] != \"Xe\"]\n",
    "data = data[data[\"Material\"] != \"Kr\"]\n",
    "data = data[data[\"Material\"] != \"Rb\"]\n",
    "data = data.set_index(\"Material\")\n",
    "print(data[61:80])"
   ]
  },
  {
   "cell_type": "markdown",
   "id": "5",
   "metadata": {},
   "source": [
    "In the next cell, we generate an initial structure for all the phases. The cubic constant is set to an arbitrary value of 5 angstroms for all structures. It does not matter too much what you set it to, but it cannot be too large or it will result in isolated atoms due to the cutoffs used in m3gnet to determine bonds. We then call the Relaxer, which is the M3GNet universal IAP pre-trained on the Materials Project.\n"
   ]
  },
  {
   "cell_type": "code",
   "execution_count": null,
   "id": "6",
   "metadata": {},
   "outputs": [],
   "source": [
    "predicted = []\n",
    "mp = []\n",
    "os.environ[\"MPRESTER_MUTE_PROGRESS_BARS\"] = \"true\"\n",
    "mpr = MPRester(\"YOUR_API_KEY\")\n",
    "\n",
    "# Load the pre-trained M3GNet Potential\n",
    "pot = matgl.load_model(\"M3GNet-MP-2021.2.8-PES\")\n",
    "# create the M3GNet Relaxer\n",
    "relaxer = Relaxer(potential=pot)\n",
    "for formula, v in data.iterrows():\n",
    "    formula = formula.split()[0]\n",
    "    c = Composition(formula)\n",
    "    els = sorted(c.elements)\n",
    "    cs = v[\"Crystal structure\"]\n",
    "\n",
    "    # We initialize all the crystals with an arbitrary lattice constant of 5 angstroms.\n",
    "    if \"Zinc blende\" in cs:\n",
    "        s = Structure.from_spacegroup(\"F-43m\", Lattice.cubic(4.5), [els[0], els[1]], [[0, 0, 0], [0.25, 0.25, 0.75]])\n",
    "    elif \"Halite\" in cs:\n",
    "        s = Structure.from_spacegroup(\"Fm-3m\", Lattice.cubic(4.5), [els[0], els[1]], [[0, 0, 0], [0.5, 0, 0]])\n",
    "    elif \"Caesium chloride\" in cs:\n",
    "        s = Structure.from_spacegroup(\"Pm-3m\", Lattice.cubic(4.5), [els[0], els[1]], [[0, 0, 0], [0.5, 0.5, 0.5]])\n",
    "    elif \"Cubic perovskite\" in cs:\n",
    "        s = Structure(\n",
    "            Lattice.cubic(5),\n",
    "            [els[0], els[1], els[2], els[2], els[2]],\n",
    "            [[0.0, 0.0, 0.0], [0.5, 0.5, 0.5], [0.5, 0.5, 0], [0.0, 0.5, 0.5], [0.5, 0, 0.5]],\n",
    "        )\n",
    "    elif \"Diamond\" in cs:\n",
    "        s = Structure.from_spacegroup(\"Fd-3m\", Lattice.cubic(5), [els[0]], [[0.25, 0.75, 0.25]])\n",
    "    elif \"BCC\" in cs:\n",
    "        s = Structure(Lattice.cubic(4.5), [els[0]] * 2, [[0.0, 0.0, 0.0], [0.5, 0.5, 0.5]])\n",
    "    elif \"FCC\" in cs:\n",
    "        s = Structure(\n",
    "            Lattice.cubic(4.5), [els[0]] * 4, [[0.0, 0.0, 0.0], [0.5, 0.5, 0], [0.0, 0.5, 0.5], [0.5, 0, 0.5]]\n",
    "        )\n",
    "    else:\n",
    "        predicted.append(0)\n",
    "        mp.append(0)\n",
    "        continue\n",
    "    # print(s.composition.reduced_formula)\n",
    "    relax_results = relaxer.relax(s, fmax=0.01)\n",
    "\n",
    "    final_structure = relax_results[\"final_structure\"]\n",
    "\n",
    "    predicted.append(final_structure.lattice.a)\n",
    "\n",
    "    try:\n",
    "        mids = mpr.get_material_ids(s.composition.reduced_formula)\n",
    "        for i in mids:\n",
    "            try:\n",
    "                structure = mpr.get_structure_by_material_id(i)\n",
    "                sga = SpacegroupAnalyzer(structure)\n",
    "                sga2 = SpacegroupAnalyzer(final_structure)\n",
    "                if sga.get_space_group_number() == sga2.get_space_group_number():\n",
    "                    conv = sga.get_conventional_standard_structure()\n",
    "                    mp.append(conv.lattice.a)\n",
    "                    break\n",
    "            except Exception:\n",
    "                pass\n",
    "        else:\n",
    "            raise RuntimeError\n",
    "    except Exception:\n",
    "        mp.append(0)\n",
    "\n",
    "data[\"MP a (Å)\"] = mp\n",
    "data[\"Predicted a (Å)\"] = predicted"
   ]
  },
  {
   "cell_type": "code",
   "execution_count": null,
   "id": "7",
   "metadata": {},
   "outputs": [],
   "source": [
    "data[\"% error vs Expt\"] = (data[\"Predicted a (Å)\"] - data[\"a (Å)\"]) / data[\"a (Å)\"]\n",
    "data[\"% error vs MP\"] = (data[\"Predicted a (Å)\"] - data[\"MP a (Å)\"]) / data[\"MP a (Å)\"]"
   ]
  },
  {
   "cell_type": "code",
   "execution_count": null,
   "id": "8",
   "metadata": {},
   "outputs": [],
   "source": [
    "data.sort_index().style.format({\"% error vs Expt\": \"{:,.2%}\", \"% error vs MP\": \"{:,.2%}\"}).background_gradient()"
   ]
  },
  {
   "cell_type": "code",
   "execution_count": null,
   "id": "9",
   "metadata": {},
   "outputs": [],
   "source": [
    "data[\"% error vs MP\"].replace([np.inf, -np.inf], np.nan).dropna().hist(bins=20)"
   ]
  },
  {
   "cell_type": "code",
   "execution_count": null,
   "id": "10",
   "metadata": {},
   "outputs": [],
   "source": [
    "# This generates a pretty markdown table output.\n",
    "\n",
    "# df = data.sort_values(\"% error vs MP\", key=abs).replace([np.inf, -np.inf], np.nan).dropna()\n",
    "# df[\"% error vs MP\"] = [f\"{v*100:.3f}%\" for v in df[\"% error vs MP\"]]\n",
    "# df[\"% error vs Expt\"] = [f\"{v*100:.3f}%\" for v in df[\"% error vs Expt\"]]\n",
    "# print(df.to_markdown())"
   ]
  }
 ],
 "metadata": {
  "kernelspec": {
   "display_name": "Python 3 (ipykernel)",
   "language": "python",
   "name": "python3"
  },
  "language_info": {
   "codemirror_mode": {
    "name": "ipython",
    "version": 3
   },
   "file_extension": ".py",
   "mimetype": "text/x-python",
   "name": "python",
   "nbconvert_exporter": "python",
   "pygments_lexer": "ipython3",
   "version": "3.10.14"
  },
  "vscode": {
   "interpreter": {
    "hash": "95e5cb0dae99d6911ce19b14750141ca4ad955f9302739260772daefb06054c0"
   }
  }
 },
 "nbformat": 4,
 "nbformat_minor": 5
}
