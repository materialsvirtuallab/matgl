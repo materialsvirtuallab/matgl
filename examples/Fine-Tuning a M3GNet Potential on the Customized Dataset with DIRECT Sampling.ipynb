{
 "cells": [
  {
   "cell_type": "markdown",
   "id": "0",
   "metadata": {
    "id": "35c97a76"
   },
   "source": [
    "# Introduction\n",
    "\n",
    "This notebook demonstrates how to fine-tune a M3GNet potential combined with DIRECT Sampling in MatGL."
   ]
  },
  {
   "cell_type": "code",
   "execution_count": null,
   "id": "1",
   "metadata": {
    "id": "6355190a",
    "tags": []
   },
   "outputs": [],
   "source": [
    "from __future__ import annotations\n",
    "\n",
    "import os\n",
    "import shutil\n",
    "import warnings\n",
    "from functools import partial\n",
    "\n",
    "import lightning as L\n",
    "import numpy as np\n",
    "from dgl.data.utils import split_dataset\n",
    "from lightning.pytorch.loggers import CSVLogger\n",
    "from mp_api.client import MPRester\n",
    "\n",
    "import matgl\n",
    "from matgl.config import DEFAULT_ELEMENTS\n",
    "from matgl.ext.pymatgen import Structure2Graph\n",
    "from matgl.graph.data import MGLDataLoader, MGLDataset, collate_fn_pes\n",
    "from matgl.utils.training import PotentialLightningModule\n",
    "\n",
    "try:\n",
    "    from maml.sampling.direct import BirchClustering, DIRECTSampler, SelectKFromClusters\n",
    "except ImportError:\n",
    "    print(\"MAML is not installed or the import failed.\")\n",
    "    print(\"Please install it by running:\")\n",
    "    print(\"pip install maml\")\n",
    "\n",
    "# To suppress warnings for clearer output\n",
    "warnings.simplefilter(\"ignore\")"
   ]
  },
  {
   "cell_type": "markdown",
   "id": "2",
   "metadata": {
    "id": "eaafc0bd"
   },
   "source": [
    "For the purposes of demonstration, we will download all Si-O compounds in the Materials Project via the MPRester. The forces and stresses are set to zero, though in a real context, these would be non-zero and obtained from DFT calculations."
   ]
  },
  {
   "cell_type": "code",
   "execution_count": null,
   "id": "3",
   "metadata": {
    "colab": {
     "base_uri": "https://localhost:8080/",
     "height": 67,
     "referenced_widgets": [
      "aac9f06228444b8dbd7dd798e6c1a93f",
      "591a338fe6304870bebd845eb8d8e2a9",
      "19fe8f71e71048bf9a923291ad9b1bb4",
      "0ab337e54e0943cb8bc940922fb425f5",
      "ed3ba68de443454b8be182c1901f8cfa",
      "a93bf23e7f224a3092094a1b0961251a",
      "a5503afc1d2b427d9fd0e83bf733387d",
      "fbad168bdfc34eb1a439bc3334748369",
      "4deece8c90b249f384722bce145a6a08",
      "d2777074f8d148c591652654e68e6d9f",
      "2eda31d46a5d440281571f3ea1240228"
     ]
    },
    "id": "bd0ce8a2-ec68-4160-9457-823fb9e6a35d",
    "outputId": "2252a59c-9a70-4673-926f-9ed8fc69ed0d",
    "tags": []
   },
   "outputs": [],
   "source": [
    "# Obtain your API key here: https://next-gen.materialsproject.org/api\n",
    "mpr = MPRester(api_key=\"YOUR_API_KEY\")\n",
    "entries = mpr.get_entries_in_chemsys([\"Si\", \"O\"])\n",
    "structures = [e.structure for e in entries]\n",
    "energies = [e.energy for e in entries]\n",
    "forces = [np.zeros((len(s), 3)).tolist() for s in structures]\n",
    "stresses = [np.zeros((3, 3)).tolist() for s in structures]\n",
    "\n",
    "\n",
    "print(f\"{len(structures)} downloaded from MP.\")"
   ]
  },
  {
   "cell_type": "markdown",
   "id": "4",
   "metadata": {
    "id": "eaafc0bd"
   },
   "source": [
    "We will set up the DIRECTSampler to select structures with high diversity. Since the number of structures here is relatively small, the number of clusters, n, is set to 20. This parameter, along with the number of structures selected per cluster, k, can be adjusted based on your dataset."
   ]
  },
  {
   "cell_type": "code",
   "execution_count": null,
   "id": "5",
   "metadata": {},
   "outputs": [],
   "source": [
    "# Initialize DIRECT sampler\n",
    "DIRECT_sampler = DIRECTSampler(\n",
    "    clustering=BirchClustering(n=20, threshold_init=0.05), select_k_from_clusters=SelectKFromClusters(k=1)\n",
    ")\n",
    "# Fit the DIRECT sampler\n",
    "DIRECT_selection = DIRECT_sampler.fit_transform(structures)"
   ]
  },
  {
   "cell_type": "raw",
   "id": "6",
   "metadata": {
    "id": "eaafc0bd"
   },
   "source": [
    "We can now select the structures obtained through DIRECT sampling."
   ]
  },
  {
   "cell_type": "code",
   "execution_count": null,
   "id": "7",
   "metadata": {},
   "outputs": [],
   "source": [
    "# Select structures from DIRECT sampling\n",
    "selected_indexes = DIRECT_selection[\"selected_indexes\"]\n",
    "selected_structures = structures[selected_indexes]\n",
    "selected_labels = {}\n",
    "selected_labels[\"energies\"] = energies[selected_indexes]\n",
    "selected_labels[\"forces\"] = forces[selected_indexes]\n",
    "selected_labels[\"stresses\"] = stresses[selected_indexes]\n",
    "\n",
    "print(f\"{len(selected_structures)} structures selected from DIRECT\")"
   ]
  },
  {
   "cell_type": "markdown",
   "id": "8",
   "metadata": {
    "id": "f666cb23"
   },
   "source": [
    "We can setup the MGLDataset and MGLDataLoader for the selected structures."
   ]
  },
  {
   "cell_type": "code",
   "execution_count": null,
   "id": "9",
   "metadata": {
    "colab": {
     "base_uri": "https://localhost:8080/"
    },
    "id": "e9dc84cb",
    "outputId": "b9f93f24-0fd6-4737-a8e4-e87804cd3ad2",
    "tags": []
   },
   "outputs": [],
   "source": [
    "# Using DEFAULT_ELEMENTS for element_types to adapt the pretrained models\n",
    "element_types = DEFAULT_ELEMENTS\n",
    "# Setup the graph converter for periodic systems\n",
    "converter = Structure2Graph(element_types=element_types, cutoff=5.0)\n",
    "dataset = MGLDataset(\n",
    "    threebody_cutoff=4.0,\n",
    "    structures=selected_structures,\n",
    "    converter=converter,\n",
    "    labels=selected_labels,\n",
    "    include_line_graph=True,\n",
    ")\n",
    "train_data, val_data, test_data = split_dataset(\n",
    "    dataset,\n",
    "    frac_list=[0.8, 0.1, 0.1],\n",
    "    shuffle=True,\n",
    "    random_state=42,\n",
    ")\n",
    "# if you are not intended to use stress for training, switch include_stress=False!\n",
    "my_collate_fn = partial(collate_fn_pes, include_line_graph=True, include_stress=True)\n",
    "train_loader, val_loader, test_loader = MGLDataLoader(\n",
    "    train_data=train_data,\n",
    "    val_data=val_data,\n",
    "    test_data=test_data,\n",
    "    collate_fn=my_collate_fn,\n",
    "    batch_size=2,\n",
    "    num_workers=0,\n",
    ")"
   ]
  },
  {
   "cell_type": "markdown",
   "id": "10",
   "metadata": {},
   "source": [
    "## Finetuning a pre-trained M3GNet\n",
    "In the following cells, we demonstrate the fine-tuning of our pretrained model on the customized dataset."
   ]
  },
  {
   "cell_type": "code",
   "execution_count": null,
   "id": "11",
   "metadata": {
    "id": "85ef3a34-e6fb-452b-82cc-65012e80bce6"
   },
   "outputs": [],
   "source": [
    "# download a pre-trained M3GNet\n",
    "m3gnet_nnp = matgl.load_model(\"M3GNet-MP-2021.2.8-PES\")\n",
    "model_pretrained = m3gnet_nnp.model\n",
    "# obtain element energy offset\n",
    "property_offset = m3gnet_nnp.element_refs.property_offset\n",
    "# you should test whether including the original property_offset helps improve training and validation accuracy\n",
    "lit_module_finetune = PotentialLightningModule(\n",
    "    model=model_pretrained, element_refs=property_offset, lr=1e-4, include_line_graph=True\n",
    ")"
   ]
  },
  {
   "cell_type": "code",
   "execution_count": null,
   "id": "12",
   "metadata": {
    "colab": {
     "base_uri": "https://localhost:8080/",
     "height": 423,
     "referenced_widgets": [
      "9d537bceb5994f0ca8908e6a8fa8dda0",
      "783e4a0f711e4e63b68bdfead3dd29dd",
      "b835f08350de4bfab6ce0e06b15c0e01",
      "ee3af67a2be244988ca27a46472f18c5",
      "30631c73610d4438a894a676ed31e49a",
      "ac1633b9d785471098cb40db339edb3f",
      "dfcaa58a05ab49a0b82108f04984e48b",
      "a8318cebd921434caee81d717a5f01fa",
      "479321dba45e48648bba9bad86ad4c4c",
      "8ac7f6294ff949b1a10da96532387ebb",
      "edafb607f21045d98a4b0c2059d27958",
      "d23643bb47234c969df66ad2ad223b4f",
      "fac4d3e8a6b64524bb0aa08036aa0588",
      "20ccc55a5b264bc3b193d324caeae685",
      "44f14d0ce3af41f5bb8f048a69da6a5d",
      "e8f06e2730cf4aef8427932a033252ab",
      "b662754e5b484ea58433fef79d401ce6",
      "4977216b2e9f4e94a41520127fde4a03",
      "c62f28b519c04081831d1a2507003e38",
      "e23184852e70488698cc75272c7057ae",
      "b7e24728fbb444c39a7115988c289883",
      "6921ddc707334f5d99b13e519d10d437",
      "db8cc5bcec1d4d0b999b48eb7a36f0de",
      "12511f8f4b134a7f80feada2b65240d0",
      "34a896f642fa47a78fe858ba8ab95c9e",
      "3a43080c70054e7793e73b5d49e48448",
      "88dddbd1837c4bfbbb1870beb73aa08a",
      "c59c41ae3d224b5aaa888a7526e1a130",
      "9cb7a81f00dc4d97b3f0639ec6dde1a4",
      "dba16d8574f8475f9d8f973fbf968b59",
      "d4df21b4ef1a4d3b938c5657337b7ec1",
      "b6a3965a166940d289ab4a50f2e78a60",
      "b5813fa692a74bf2aec3fbdf03088f3d"
     ]
    },
    "id": "4133225a-5990-4b97-9d73-88195df87a1a",
    "outputId": "f149a68a-eef7-4726-b3a1-723525dc908f"
   },
   "outputs": [],
   "source": [
    "# If you wish to disable GPU or MPS (M1 mac) training, use the accelerator=\"cpu\" kwarg.\n",
    "logger = CSVLogger(\"logs\", name=\"M3GNet_finetuning\")\n",
    "trainer = L.Trainer(max_epochs=10, accelerator=\"cpu\", logger=logger, inference_mode=False)\n",
    "trainer.fit(model=lit_module_finetune, train_dataloaders=train_loader, val_dataloaders=val_loader)"
   ]
  },
  {
   "cell_type": "code",
   "execution_count": null,
   "id": "13",
   "metadata": {
    "id": "252f6456-3ecf-47f0-84ca-c8e9dcc66ccc"
   },
   "outputs": [],
   "source": [
    "# save trained model\n",
    "model_save_path = \"./finetuned_model/\"\n",
    "lit_module_finetune.model.save(model_save_path)\n",
    "# load trained model\n",
    "trained_model = matgl.load_model(path=model_save_path)"
   ]
  },
  {
   "cell_type": "code",
   "execution_count": null,
   "id": "14",
   "metadata": {
    "id": "cd11b92f"
   },
   "outputs": [],
   "source": [
    "# This code just performs cleanup for this notebook.\n",
    "\n",
    "for fn in (\"dgl_graph.bin\", \"lattice.pt\", \"dgl_line_graph.bin\", \"state_attr.pt\", \"labels.json\"):\n",
    "    try:\n",
    "        os.remove(fn)\n",
    "    except FileNotFoundError:\n",
    "        pass\n",
    "\n",
    "shutil.rmtree(\"logs\")\n",
    "shutil.rmtree(\"finetuned_model\")"
   ]
  }
 ],
 "metadata": {
  "colab": {
   "provenance": []
  },
  "kernelspec": {
   "display_name": "Python 3 (ipykernel)",
   "language": "python",
   "name": "python3"
  },
  "language_info": {
   "codemirror_mode": {
    "name": "ipython",
    "version": 3
   },
   "file_extension": ".py",
   "mimetype": "text/x-python",
   "name": "python",
   "nbconvert_exporter": "python",
   "pygments_lexer": "ipython3",
   "version": "3.11.0"
  }
 },
 "nbformat": 4,
 "nbformat_minor": 5
}
