{
 "cells": [
  {
   "cell_type": "markdown",
   "id": "76f279e2",
   "metadata": {},
   "source": [
    "# Introduction\n",
    "\n",
    "This notebook demonstrates the use of the LAMMPS interface to MatGL developed by AdvancedSoft. To install, please clone LAMMPS from AdvancedSoft's Github repo. It is recommended that you use cmake, especially if you are on Apple Silicon Macs. Below are a sequence of instructions that worked for me. Modify as necessary.\n",
    "\n",
    "```\n",
    "git clone https://github.com/advancesoftcorp/lammps.git\n",
    "cd lammps\n",
    "git checkout based-on-lammps_2Jun2022\n",
    "mkdir build\n",
    "cd build\n",
    "cmake -C ../cmake/presets/basic.cmake -D BUILD_SHARED_LIBS=on -D LAMMPS_EXCEPTIONS=on -D PKG_PYTHON=on -D PKG_ML-M3GNET=on -D PKG_EXTRA-COMPUTE=on -D PKG_EXTRA-FIX=on -D PKG_MANYBODY=on -D PKG_EXTRA-DUMP=on -D PKG_MOLECULE=on ../cmake\n",
    "cmake --build .\n",
    "make install\n",
    "```\n",
    "\n",
    "After installation, your lmp executable should be in your `$HOME/.local/bin` directory. You will need to add that to your PATH if it is not already there. You may also need to adjust your library paths if needed.\n",
    "\n",
    "Upon running this notebook, if you encounter an error about DFTD3 and you do not need dispersion corrections, I recommend you simply comment out the `from dftd3.ase import DFTD3` line in your `$HOME/.local/share/potentials/M3GNET/matgl_driver.py` file. DFTD3 is a pain to install."
   ]
  },
  {
   "cell_type": "code",
   "execution_count": null,
   "id": "f0177465",
   "metadata": {},
   "outputs": [],
   "source": [
    "from __future__ import annotations\n",
    "\n",
    "import glob\n",
    "import os\n",
    "from datetime import timedelta\n",
    "\n",
    "import pandas as pd\n",
    "import seaborn as sns\n",
    "\n",
    "n_cpus = 1\n",
    "\n",
    "HOME_DIR = os.environ[\"HOME\"]"
   ]
  },
  {
   "cell_type": "markdown",
   "id": "c0d6e567",
   "metadata": {},
   "source": [
    "We will first create our test structure - a simple MgO with 8 atoms."
   ]
  },
  {
   "cell_type": "code",
   "execution_count": null,
   "id": "e34cab4f",
   "metadata": {},
   "outputs": [],
   "source": [
    "mgo_data = \"\"\"\n",
    "\n",
    "       8  atoms\n",
    "       2  atom types\n",
    "\n",
    " 0.00  4.19  xlo xhi\n",
    " 0.00  4.19  ylo yhi\n",
    " 0.00  4.19  zlo zhi\n",
    "\n",
    " Atoms\n",
    "\n",
    "       1        1  0.0 0.0 0.0\n",
    "       2        1  0.0 0.5 0.5\n",
    "       3        1  0.5 0.0 0.5\n",
    "       4        1  0.5 0.5 0.0\n",
    "       5        1  0.0 0.0 0.5\n",
    "       6        1  0.0 0.5 0.0\n",
    "       7        1  0.5 0.0 0.0\n",
    "       8        1  0.5 0.5 0.5\n",
    "\n",
    " Masses\n",
    "\n",
    "       1  24.305 # Mg\n",
    "       2  15.999 # O\n",
    "\n",
    "\"\"\"\n",
    "\n",
    "with open(\"dat.lammps\", \"w\") as f:\n",
    "    f.write(mgo_data)"
   ]
  },
  {
   "cell_type": "code",
   "execution_count": null,
   "id": "cfd1702e",
   "metadata": {},
   "outputs": [
    {
     "name": "stderr",
     "output_type": "stream",
     "text": [
      "/bin/sh: lscpu: command not found\n",
      "/Users/shyue/repos/matgl/matgl/apps/pes.py:59: UserWarning: To copy construct from a tensor, it is recommended to use sourceTensor.clone().detach() or sourceTensor.clone().detach().requires_grad_(True), rather than torch.tensor(sourceTensor).\n",
      "  self.data_mean = torch.tensor(data_mean) if data_mean is not None else torch.zeros(1)\n",
      "/Users/shyue/repos/matgl/matgl/apps/pes.py:60: UserWarning: To copy construct from a tensor, it is recommended to use sourceTensor.clone().detach() or sourceTensor.clone().detach().requires_grad_(True), rather than torch.tensor(sourceTensor).\n",
      "  self.data_std = torch.tensor(data_std) if data_std is not None else torch.ones(1)\n"
     ]
    },
    {
     "name": "stdout",
     "output_type": "stream",
     "text": [
      "5.74 s ± 0 ns per loop (mean ± std. dev. of 1 run, 1 loop each)\n"
     ]
    },
    {
     "name": "stderr",
     "output_type": "stream",
     "text": [
      "/bin/sh: lscpu: command not found\n",
      "/Users/shyue/repos/matgl/matgl/apps/pes.py:59: UserWarning: To copy construct from a tensor, it is recommended to use sourceTensor.clone().detach() or sourceTensor.clone().detach().requires_grad_(True), rather than torch.tensor(sourceTensor).\n",
      "  self.data_mean = torch.tensor(data_mean) if data_mean is not None else torch.zeros(1)\n",
      "/Users/shyue/repos/matgl/matgl/apps/pes.py:60: UserWarning: To copy construct from a tensor, it is recommended to use sourceTensor.clone().detach() or sourceTensor.clone().detach().requires_grad_(True), rather than torch.tensor(sourceTensor).\n",
      "  self.data_std = torch.tensor(data_std) if data_std is not None else torch.ones(1)\n"
     ]
    },
    {
     "name": "stdout",
     "output_type": "stream",
     "text": [
      "8.25 s ± 0 ns per loop (mean ± std. dev. of 1 run, 1 loop each)\n"
     ]
    },
    {
     "name": "stderr",
     "output_type": "stream",
     "text": [
      "/bin/sh: lscpu: command not found\n",
      "/Users/shyue/repos/matgl/matgl/apps/pes.py:59: UserWarning: To copy construct from a tensor, it is recommended to use sourceTensor.clone().detach() or sourceTensor.clone().detach().requires_grad_(True), rather than torch.tensor(sourceTensor).\n",
      "  self.data_mean = torch.tensor(data_mean) if data_mean is not None else torch.zeros(1)\n",
      "/Users/shyue/repos/matgl/matgl/apps/pes.py:60: UserWarning: To copy construct from a tensor, it is recommended to use sourceTensor.clone().detach() or sourceTensor.clone().detach().requires_grad_(True), rather than torch.tensor(sourceTensor).\n",
      "  self.data_std = torch.tensor(data_std) if data_std is not None else torch.ones(1)\n"
     ]
    },
    {
     "name": "stdout",
     "output_type": "stream",
     "text": [
      "14.8 s ± 0 ns per loop (mean ± std. dev. of 1 run, 1 loop each)\n"
     ]
    },
    {
     "name": "stderr",
     "output_type": "stream",
     "text": [
      "/bin/sh: lscpu: command not found\n",
      "/Users/shyue/repos/matgl/matgl/apps/pes.py:59: UserWarning: To copy construct from a tensor, it is recommended to use sourceTensor.clone().detach() or sourceTensor.clone().detach().requires_grad_(True), rather than torch.tensor(sourceTensor).\n",
      "  self.data_mean = torch.tensor(data_mean) if data_mean is not None else torch.zeros(1)\n",
      "/Users/shyue/repos/matgl/matgl/apps/pes.py:60: UserWarning: To copy construct from a tensor, it is recommended to use sourceTensor.clone().detach() or sourceTensor.clone().detach().requires_grad_(True), rather than torch.tensor(sourceTensor).\n",
      "  self.data_std = torch.tensor(data_std) if data_std is not None else torch.ones(1)\n"
     ]
    },
    {
     "name": "stdout",
     "output_type": "stream",
     "text": [
      "36.5 s ± 0 ns per loop (mean ± std. dev. of 1 run, 1 loop each)\n"
     ]
    },
    {
     "name": "stderr",
     "output_type": "stream",
     "text": [
      "/bin/sh: lscpu: command not found\n",
      "/Users/shyue/repos/matgl/matgl/apps/pes.py:59: UserWarning: To copy construct from a tensor, it is recommended to use sourceTensor.clone().detach() or sourceTensor.clone().detach().requires_grad_(True), rather than torch.tensor(sourceTensor).\n",
      "  self.data_mean = torch.tensor(data_mean) if data_mean is not None else torch.zeros(1)\n",
      "/Users/shyue/repos/matgl/matgl/apps/pes.py:60: UserWarning: To copy construct from a tensor, it is recommended to use sourceTensor.clone().detach() or sourceTensor.clone().detach().requires_grad_(True), rather than torch.tensor(sourceTensor).\n",
      "  self.data_std = torch.tensor(data_std) if data_std is not None else torch.ones(1)\n"
     ]
    },
    {
     "name": "stdout",
     "output_type": "stream",
     "text": [
      "1min 6s ± 0 ns per loop (mean ± std. dev. of 1 run, 1 loop each)\n"
     ]
    },
    {
     "name": "stderr",
     "output_type": "stream",
     "text": [
      "/bin/sh: lscpu: command not found\n"
     ]
    },
    {
     "name": "stdout",
     "output_type": "stream",
     "text": [
      "1min 54s ± 0 ns per loop (mean ± std. dev. of 1 run, 1 loop each)\n"
     ]
    },
    {
     "name": "stderr",
     "output_type": "stream",
     "text": [
      "/bin/sh: lscpu: command not found\n"
     ]
    },
    {
     "name": "stdout",
     "output_type": "stream",
     "text": [
      "4min 17s ± 0 ns per loop (mean ± std. dev. of 1 run, 1 loop each)\n"
     ]
    }
   ],
   "source": [
    "run_stats = []\n",
    "\n",
    "for x in [2, 4, 8, 16, 32, 64, 128]:\n",
    "    modified_script = f\"\"\"\n",
    "units         metal\n",
    "boundary      p p p\n",
    "atom_style    atomic\n",
    "\n",
    "# if you want to use CUDA GPU, please switch m3gnet to m3gnet/gpu in pair_style",
    "\n",
    "pair_style    m3gnet {HOME_DIR}/.local/share/lammps/potentials/M3GNET\n",
    "\n",
    "read_data     ./dat.lammps\n",
    "replicate     {x} 1 1\n",
    "pair_coeff    * *  M3GNet-MP-2021.2.8-DIRECT-PES  Mg O  # MatGL will be called\n",
    "\n",
    "dump          myDump all custom 10 xyz.lammpstrj id element x y z\n",
    "dump_modify   myDump sort id element Mg O\n",
    "\n",
    "thermo_style  custom step time cpu pe ke etotal temp press vol density\n",
    "thermo        10\n",
    "\n",
    "velocity      all create 300.0 12345\n",
    "fix           myEnse all npt temp 300.0 300.0 0.1 aniso 1.0 1.0 1.0\n",
    "timestep      1.0e-3\n",
    "run           100\n",
    "\"\"\"\n",
    "\n",
    "    outfile = f\"MgO_{x}.out\"\n",
    "    # Write the modified script to a temporary file\n",
    "    with open(\"lammps.in\", \"w\") as f:\n",
    "        f.write(modified_script)\n",
    "    os.environ[\"OMP_NUM_THREADS\"] = f\"{n_cpus}\"\n",
    "    lammps_command = f\"{HOME_DIR}/.local/bin/lmp < lammps.in > {outfile}\"\n",
    "    r = %timeit -n 1 -r 1 -o subprocess.run(lammps_command, shell=True)\n",
    "    with open(outfile) as f:\n",
    "        for line in f:\n",
    "            if \"Total wall time\" in line:\n",
    "                _, hours, minutes, seconds = line.split(\":\")\n",
    "                walltime = timedelta(hours=int(hours), minutes=int(minutes), seconds=int(seconds)).total_seconds()\n",
    "    run_stats.append((x * 8, r.average / 100, walltime / 100))"
   ]
  },
  {
   "cell_type": "code",
   "execution_count": null,
   "id": "b9462461",
   "metadata": {},
   "outputs": [],
   "source": [
    "results = pd.DataFrame(run_stats, columns=[\"natoms\", \"run_time\", \"wall_time\"])"
   ]
  },
  {
   "cell_type": "code",
   "execution_count": null,
   "id": "06fc8b66",
   "metadata": {},
   "outputs": [
    {
     "name": "stderr",
     "output_type": "stream",
     "text": [
      "/Users/shyue/miniconda3/envs/mavrl/lib/python3.9/site-packages/seaborn/axisgrid.py:118: UserWarning: The figure layout has changed to tight\n",
      "  self._figure.tight_layout(*args, **kwargs)\n"
     ]
    },
    {
     "data": {
      "image/png": "[encoded data removed]",
      "text/plain": [
       "<Figure size 750x500 with 1 Axes>"
      ]
     },
     "metadata": {},
     "output_type": "display_data"
    }
   ],
   "source": [
    "ax = sns.relplot(kind=\"scatter\", data=results, x=\"natoms\", y=\"wall_time\", height=5, aspect=1.5)\n",
    "_ = ax.set_xlabels(\"No. of Atoms\")\n",
    "_ = ax.set_ylabels(\"Wall time (s) per MD step.\")"
   ]
  },
  {
   "cell_type": "code",
   "execution_count": null,
   "id": "5762651d",
   "metadata": {},
   "outputs": [],
   "source": [
    "# Perform some cleanup\n",
    "\n",
    "os.remove(\"lammps.in\")\n",
    "for fn in glob.glob(\"MgO*.out\") + glob.glob(\"*.lammps\"):\n",
    "    os.remove(fn)"
   ]
  }
 ],
 "metadata": {
  "kernelspec": {
   "display_name": "Python 3 (ipykernel)",
   "language": "python",
   "name": "python3"
  },
  "language_info": {
   "codemirror_mode": {
    "name": "ipython",
    "version": 3
   },
   "file_extension": ".py",
   "mimetype": "text/x-python",
   "name": "python",
   "nbconvert_exporter": "python",
   "pygments_lexer": "ipython3",
   "version": "3.9.17"
  }
 },
 "nbformat": 4,
 "nbformat_minor": 5
}
