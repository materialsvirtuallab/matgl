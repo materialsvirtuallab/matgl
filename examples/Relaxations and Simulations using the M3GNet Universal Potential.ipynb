{
 "cells": [
  {
   "cell_type": "markdown",
   "id": "fae317ce",
   "metadata": {},
   "source": [
    "# Introduction\n",
    "\n",
    "This notebook demonstrates the use of the pre-trained universal potentials to perform structural relaxations, molecular dynamics simulations and single-point calculations.\n",
    "\n",
    "Author: Tsz Wai Ko (Kenko)\n",
    "Email: t1ko@ucsd.edu"
   ]
  },
  {
   "cell_type": "code",
   "execution_count": null,
   "id": "f1a4a558",
   "metadata": {},
   "outputs": [],
   "source": [
    "from __future__ import annotations\n",
    "\n",
    "import warnings\n",
    "\n",
    "from ase.md.velocitydistribution import MaxwellBoltzmannDistribution\n",
    "from pymatgen.core import Lattice, Structure\n",
    "from pymatgen.io.ase import AseAtomsAdaptor\n",
    "\n",
    "import matgl\n",
    "from matgl.ext.ase import PESCalculator, MolecularDynamics, Relaxer\n",
    "\n",
    "# To suppress warnings for clearer output\n",
    "warnings.simplefilter(\"ignore\")"
   ]
  },
  {
   "cell_type": "markdown",
   "id": "ae77d7cf",
   "metadata": {},
   "source": [
    "# Loading the pre-trained M3GNet PES model\n",
    "\n",
    "We will first load the M3GNet PES model, which is trained on the MP-2021.2.8 dataset. This can be done with a single line of code. Here we only use M3GNet for demonstration and users can choose other available models."
   ]
  },
  {
   "cell_type": "code",
   "execution_count": null,
   "id": "7fb2dabf",
   "metadata": {},
   "outputs": [],
   "source": [
    "# You can load any pretrained potentials such as CHGNet ('CHGNet-MPtrj-2023.12.1-PES-2.7M', 'CHGNet-MPtrj-2024.2.13-PES-11M')\n",
    "# To see availabe models, use get_available_pretrained_models()\n",
    "pot = matgl.load_model(\"M3GNet-MP-2021.2.8-PES\") "
   ]
  },
  {
   "cell_type": "markdown",
   "id": "f4f09d6c",
   "metadata": {},
   "source": [
    "# Structure Relaxation\n",
    "\n",
    "To perform structure relaxation, we use the Relaxer class. Here, we demonstrate the relaxation of a simple CsCl structure."
   ]
  },
  {
   "cell_type": "code",
   "execution_count": null,
   "id": "ce4e9336",
   "metadata": {},
   "outputs": [],
   "source": [
    "relaxer = Relaxer(potential=pot)\n",
    "struct = Structure.from_spacegroup(\"Pm-3m\", Lattice.cubic(4.5), [\"Cs\", \"Cl\"], [[0, 0, 0], [0.5, 0.5, 0.5]])\n",
    "relax_results = relaxer.relax(struct, fmax=0.01)\n",
    "# extract results\n",
    "final_structure = relax_results[\"final_structure\"]\n",
    "final_energy = relax_results[\"trajectory\"].energies[-1]\n",
    "# print out the final relaxed structure and energy\n",
    "\n",
    "print(final_structure)\n",
    "print(f\"The final energy is {float(final_energy):.3f} eV.\")"
   ]
  },
  {
   "cell_type": "markdown",
   "id": "90e95671",
   "metadata": {},
   "source": [
    "# Molecular Dynamics\n",
    "\n",
    "MD simulations are performed with the ASE interface."
   ]
  },
  {
   "cell_type": "code",
   "execution_count": null,
   "id": "f2ec796f",
   "metadata": {},
   "outputs": [],
   "source": [
    "ase_adaptor = AseAtomsAdaptor()\n",
    "# Create ase atom object\n",
    "atoms = ase_adaptor.get_atoms(final_structure)\n",
    "# Initialize the velocity according to Maxwell Boltzamnn distribution\n",
    "MaxwellBoltzmannDistribution(atoms, temperature_K=300)\n",
    "# Create the MD class\n",
    "driver = MolecularDynamics(atoms, potential=pot, temperature=300, logfile=\"md_trial.log\")\n",
    "# Run\n",
    "driver.run(100)\n",
    "print(f\"The potential energy of CsCl at 300 K after 100 steps is {float(atoms.get_potential_energy()):.3f} eV.\")"
   ]
  },
  {
   "cell_type": "markdown",
   "id": "40847190",
   "metadata": {},
   "source": [
    "# Single point energy calculation\n",
    "\n",
    "Perform a single-point calculation for final structure using PESCalculator."
   ]
  },
  {
   "cell_type": "code",
   "execution_count": null,
   "id": "2a6c1182",
   "metadata": {},
   "outputs": [],
   "source": [
    "# define the M3GNet calculator\n",
    "calc = PESCalculator(pot)\n",
    "# set up the calculator for atoms object\n",
    "atoms.set_calculator(calc)\n",
    "print(f\"The calculated potential energy is {atoms.get_potential_energy():.3f} eV.\")"
   ]
  }
 ],
 "metadata": {
  "kernelspec": {
   "display_name": "Python 3 (ipykernel)",
   "language": "python",
   "name": "python3"
  },
  "language_info": {
   "codemirror_mode": {
    "name": "ipython",
    "version": 3
   },
   "file_extension": ".py",
   "mimetype": "text/x-python",
   "name": "python",
   "nbconvert_exporter": "python",
   "pygments_lexer": "ipython3",
   "version": "3.10.9"
  }
 },
 "nbformat": 4,
 "nbformat_minor": 5
}
