{
 "cells": [
  {
   "cell_type": "markdown",
   "id": "0",
   "metadata": {},
   "source": [
    "# Introduction\n",
    "\n",
    "This notebook demonstrates the use of the pre-trained molecular potentials to perform structural relaxations, molecular dynamics simulations and single-point calculations.\n",
    "\n",
    "Author: Tsz Wai Ko (Kenko)\n",
    "Email: t1ko@ucsd.edu"
   ]
  },
  {
   "cell_type": "code",
   "execution_count": null,
   "id": "1",
   "metadata": {},
   "outputs": [
    {
     "name": "stderr",
     "output_type": "stream",
     "text": [
      "/Users/kenko/miniconda3/envs/mavrl/lib/python3.11/site-packages/tqdm/auto.py:21: TqdmWarning: IProgress not found. Please update jupyter and ipywidgets. See https://ipywidgets.readthedocs.io/en/stable/user_install.html\n",
      "  from .autonotebook import tqdm as notebook_tqdm\n"
     ]
    }
   ],
   "source": [
    "from __future__ import annotations\n",
    "\n",
    "import warnings\n",
    "\n",
    "from ase.build import molecule\n",
    "from ase.md.velocitydistribution import MaxwellBoltzmannDistribution\n",
    "\n",
    "import matgl\n",
    "from matgl.ext.ase import MolecularDynamics, PESCalculator, Relaxer\n",
    "\n",
    "# To suppress warnings for clearer output\n",
    "warnings.simplefilter(\"ignore\")"
   ]
  },
  {
   "cell_type": "markdown",
   "id": "2",
   "metadata": {},
   "source": [
    "# Loading the pre-trained M3GNet PES model\n",
    "\n",
    "We will first load the M3GNet PES model, which is trained on the subset of ANI-1x dataset. This can be done with a single line of code. Here we only use M3GNet for demonstration and users can choose other available models."
   ]
  },
  {
   "cell_type": "code",
   "execution_count": null,
   "id": "3",
   "metadata": {},
   "outputs": [],
   "source": [
    "# You can load any pretrained potentials stored in the 'pretrained_models' directory\n",
    "# To see available models, use get_available_pretrained_models()\n",
    "pot = matgl.load_model(\"M3GNet-ANI-1x-Subset-PES/\")"
   ]
  },
  {
   "cell_type": "markdown",
   "id": "4",
   "metadata": {},
   "source": [
    "# Structure Relaxation\n",
    "\n",
    "To perform structure relaxation, we use the Relaxer class. Here, we demonstrate the relaxation of a simple CsCl structure."
   ]
  },
  {
   "cell_type": "code",
   "execution_count": null,
   "id": "5",
   "metadata": {},
   "outputs": [
    {
     "name": "stdout",
     "output_type": "stream",
     "text": [
      "Full Formula (H2 O1)\n",
      "Reduced Formula: H2O\n",
      "Charge = 0, Spin Mult = 1\n",
      "Sites (3)\n",
      "0 O     0.000000    -0.000000     0.116472\n",
      "1 H     0.000000     0.760003    -0.475652\n",
      "2 H     0.000000    -0.760003    -0.475652\n",
      "The final energy is -2078.627 eV.\n"
     ]
    }
   ],
   "source": [
    "relaxer = Relaxer(potential=pot, relax_cell=False)\n",
    "atoms = molecule(\"H2O\")\n",
    "relax_results = relaxer.relax(atoms, fmax=0.01)\n",
    "# extract results\n",
    "final_structure = relax_results[\"final_structure\"]\n",
    "final_energy = relax_results[\"trajectory\"].energies[-1]\n",
    "# print out the final relaxed structure and energy\n",
    "\n",
    "print(final_structure)\n",
    "print(f\"The final energy is {float(final_energy):.3f} eV.\")"
   ]
  },
  {
   "cell_type": "markdown",
   "id": "6",
   "metadata": {},
   "source": [
    "# Molecular Dynamics\n",
    "\n",
    "MD simulations are performed with the ASE interface."
   ]
  },
  {
   "cell_type": "code",
   "execution_count": null,
   "id": "7",
   "metadata": {},
   "outputs": [
    {
     "name": "stdout",
     "output_type": "stream",
     "text": [
      "The potential energy of H2O at 300 K after 100 steps is -2078.431 eV.\n"
     ]
    }
   ],
   "source": [
    "# Initialize the velocity according to Maxwell Boltzamnn distribution\n",
    "MaxwellBoltzmannDistribution(atoms, temperature_K=300)\n",
    "# Create the MD class\n",
    "driver = MolecularDynamics(atoms, potential=pot, temperature=300, logfile=\"md_trial.log\")\n",
    "# Run\n",
    "driver.run(100)\n",
    "print(f\"The potential energy of H2O at 300 K after 100 steps is {float(atoms.get_potential_energy()):.3f} eV.\")"
   ]
  },
  {
   "cell_type": "markdown",
   "id": "8",
   "metadata": {},
   "source": [
    "# Single point energy calculation\n",
    "\n",
    "Perform a single-point calculation for final structure using PESCalculator."
   ]
  },
  {
   "cell_type": "code",
   "execution_count": null,
   "id": "9",
   "metadata": {},
   "outputs": [
    {
     "name": "stdout",
     "output_type": "stream",
     "text": [
      "The calculated potential energy is -2078.431 eV.\n"
     ]
    }
   ],
   "source": [
    "# define the M3GNet calculator\n",
    "calc = PESCalculator(pot)\n",
    "# set up the calculator for atoms object\n",
    "atoms.set_calculator(calc)\n",
    "print(f\"The calculated potential energy is {atoms.get_potential_energy():.3f} eV.\")"
   ]
  }
 ],
 "metadata": {
  "kernelspec": {
   "display_name": "Python 3 (ipykernel)",
   "language": "python",
   "name": "python3"
  },
  "language_info": {
   "codemirror_mode": {
    "name": "ipython",
    "version": 3
   },
   "file_extension": ".py",
   "mimetype": "text/x-python",
   "name": "python",
   "nbconvert_exporter": "python",
   "pygments_lexer": "ipython3",
   "version": "3.11.0"
  }
 },
 "nbformat": 4,
 "nbformat_minor": 5
}
